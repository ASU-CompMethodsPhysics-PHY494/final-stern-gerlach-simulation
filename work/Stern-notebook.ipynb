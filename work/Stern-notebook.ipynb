{
 "cells": [
  {
   "cell_type": "code",
   "execution_count": 2,
   "metadata": {
    "collapsed": false
   },
   "outputs": [
    {
     "name": "stderr",
     "output_type": "stream",
     "text": [
      "C:\\Users\\g.h.ab.w\\Documents\\Computational_Physics\\Final_Project\\final-stern-gerlach-simulation\\work\\ClassicalSolution.py:25: RuntimeWarning: invalid value encountered in sqrt\n",
      "  S_x = np.random.choice([-1, 1], N) * np.sqrt(1 - S_y**2 - S_z**2)\n"
     ]
    }
   ],
   "source": [
    "%run ./ClassicalSolution.py\n",
    "\n"
   ]
  },
  {
   "cell_type": "code",
   "execution_count": null,
   "metadata": {
    "collapsed": true
   },
   "outputs": [],
   "source": []
  }
 ],
 "metadata": {
  "kernelspec": {
   "display_name": "Python 3",
   "language": "python",
   "name": "python3"
  },
  "language_info": {
   "codemirror_mode": {
    "name": "ipython",
    "version": 3
   },
   "file_extension": ".py",
   "mimetype": "text/x-python",
   "name": "python",
   "nbconvert_exporter": "python",
   "pygments_lexer": "ipython3",
   "version": "3.5.1"
  }
 },
 "nbformat": 4,
 "nbformat_minor": 0
}
